{
 "cells": [
  {
   "cell_type": "markdown",
   "metadata": {},
   "source": [
    "# Install spark on windows\n",
    "\n",
    "see link here : https://mas-dse.github.io/DSE230/installation/windows/\n",
    "\n"
   ]
  },
  {
   "cell_type": "markdown",
   "metadata": {},
   "source": [
    "## First, install Python and required packages"
   ]
  },
  {
   "cell_type": "markdown",
   "metadata": {},
   "source": [
    "install python 3.6+\n",
    "\n",
    "install jupyter extension (not required) : https://github.com/Jupyter-contrib/jupyter_nbextensions_configurator\n",
    "\n",
    "intall packages \n",
    "* findspark: pip install findspark\n",
    "* pandas\n",
    "* numpy\n",
    "* matplotlib"
   ]
  },
  {
   "cell_type": "markdown",
   "metadata": {},
   "source": [
    "## Spark repo\n",
    "\n",
    "http://spark.apache.org/downloads.html\n"
   ]
  },
  {
   "cell_type": "markdown",
   "metadata": {},
   "source": [
    "After downloading \n",
    "\n",
    "    gzip -d spark-2.1.0-bin-hadoop2.7.tgz\n",
    "    tar xvf spark-2.1.0-bin-hadoop2.7.tar\n",
    "    mkdir C:\\opt\\\n",
    "    move .\\spark-2.1.0-bin-hadoop2.7 C:\\opt\\\n",
    "\n",
    "    curl -o winutils.exe https://github.com/steveloughran/winutils/blob/master/hadoop-2.6.0/bin/winutils.exe?raw=true\n",
    "    "
   ]
  },
  {
   "cell_type": "markdown",
   "metadata": {},
   "source": [
    "* Change SPARK_HOME environment variable\n",
    "* mkdir ~/Documents/jupyter-temp/\n",
    "* cd ~/Documents/jupyter-temp/"
   ]
  },
  {
   "cell_type": "code",
   "execution_count": null,
   "metadata": {},
   "outputs": [],
   "source": []
  }
 ],
 "metadata": {
  "kernelspec": {
   "display_name": "Python 3",
   "language": "python",
   "name": "python3"
  },
  "language_info": {
   "codemirror_mode": {
    "name": "ipython",
    "version": 3
   },
   "file_extension": ".py",
   "mimetype": "text/x-python",
   "name": "python",
   "nbconvert_exporter": "python",
   "pygments_lexer": "ipython3",
   "version": "3.7.3"
  }
 },
 "nbformat": 4,
 "nbformat_minor": 2
}
